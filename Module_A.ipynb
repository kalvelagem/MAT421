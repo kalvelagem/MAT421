{
  "nbformat": 4,
  "nbformat_minor": 0,
  "metadata": {
    "colab": {
      "provenance": [],
      "authorship_tag": "ABX9TyOxOglt64gRno6s4JstmTzX",
      "include_colab_link": true
    },
    "kernelspec": {
      "name": "python3",
      "display_name": "Python 3"
    },
    "language_info": {
      "name": "python"
    }
  },
  "cells": [
    {
      "cell_type": "markdown",
      "metadata": {
        "id": "view-in-github",
        "colab_type": "text"
      },
      "source": [
        "<a href=\"https://colab.research.google.com/github/kalvelagem/MAT421/blob/main/Module_A.ipynb\" target=\"_parent\"><img src=\"https://colab.research.google.com/assets/colab-badge.svg\" alt=\"Open In Colab\"/></a>"
      ]
    },
    {
      "cell_type": "markdown",
      "source": [
        "# Chapter 9. Representation of Numbers\n"
      ],
      "metadata": {
        "id": "yjr9qDU1cn4h"
      }
    },
    {
      "cell_type": "markdown",
      "source": [
        "###9.1 Base-N and Binary"
      ],
      "metadata": {
        "id": "8aMDk-bPnEmS"
      }
    },
    {
      "cell_type": "markdown",
      "source": [
        "Decimal System - a way of representing numbers\n",
        "\n",
        "Binary - base 2 and only available digits are 0 and 1\n",
        "Bits - digits in a binary number"
      ],
      "metadata": {
        "id": "PNNnAKUcdQoD"
      }
    },
    {
      "cell_type": "markdown",
      "source": [
        "#### Base 3 to Base 10: \n",
        "\n",
        "121(base3) = $(1*3^2)$ + $(2*3^1)$ + $(1*3^0)$ = 16(base10)"
      ],
      "metadata": {
        "id": "07Yqpla5ndmT"
      }
    },
    {
      "cell_type": "markdown",
      "source": [
        "#### Base to Binary:\n",
        "\n",
        "11(base10) = 8+2+1 = $(1*2^3)$ + $(0*2^2)$ +$(1*2^1)$ +$(1*2^0)$ = 1011(base2)\n",
        "\n",
        "37(base10) = 32+4+1 = $(1*2^5)$ + $(0*2^4)$ + $(0*2^3)$ + $(1*2^2)$ + $(0*2^1)$ + $(1*2^0)$ = 100101(base2)"
      ],
      "metadata": {
        "id": "J-_3dO5PnhRm"
      }
    },
    {
      "cell_type": "markdown",
      "source": [
        "#### Binary Addition\n",
        "100101 + 10001= 11010\n",
        "\n",
        "1+1 = 0\n",
        "\n",
        "0+1 = 1"
      ],
      "metadata": {
        "id": "0CeTMUY-n-5a"
      }
    },
    {
      "cell_type": "markdown",
      "source": [
        "#### Binary Multiplication"
      ],
      "metadata": {
        "id": "IxMw7iIboHPL"
      }
    },
    {
      "cell_type": "code",
      "source": [
        "100101*10001"
      ],
      "metadata": {
        "colab": {
          "base_uri": "https://localhost:8080/"
        },
        "id": "r09s5YawmL9I",
        "outputId": "a25895a2-ffa8-426d-e584-ee7eca9cfbee"
      },
      "execution_count": null,
      "outputs": [
        {
          "output_type": "execute_result",
          "data": {
            "text/plain": [
              "1001110101"
            ]
          },
          "metadata": {},
          "execution_count": 6
        }
      ]
    },
    {
      "cell_type": "markdown",
      "source": [
        "1001110101 = 512 + 64 +32 + 16 +4 + 1 = 629(base 10)"
      ],
      "metadata": {
        "id": "sUYOOA48oWvQ"
      }
    },
    {
      "cell_type": "code",
      "source": [
        "# converts 45 to binary\n",
        "bin(45)"
      ],
      "metadata": {
        "colab": {
          "base_uri": "https://localhost:8080/",
          "height": 35
        },
        "id": "aEIsgBfvXtgp",
        "outputId": "01e9d1e0-d564-4cd7-9f72-a3777f72d330"
      },
      "execution_count": null,
      "outputs": [
        {
          "output_type": "execute_result",
          "data": {
            "text/plain": [
              "'0b101101'"
            ],
            "application/vnd.google.colaboratory.intrinsic+json": {
              "type": "string"
            }
          },
          "metadata": {},
          "execution_count": 24
        }
      ]
    },
    {
      "cell_type": "markdown",
      "source": [
        "### 9.2 Floating Point Numbers\n",
        "Floating Point Numbers are broken into three parts:\n",
        "*   sign inditcator, s\n",
        "*   charcheristic or exponent, e\n",
        "*   Fraction, f\n",
        "\n",
        "Sign indicator - says whether a number is positive or negative\n",
        "\n",
        "\n",
        "*   s = 0 the number is positivve\n",
        "*   s = 1 the number is negative\n",
        "\n",
        "\n",
        "\n",
        "Characteristic or exponent - the power of 2\n",
        "\n",
        "Fraction - the coefficient of the exponent\n",
        "\n",
        "Almost all platforms map Python floats to the IEEE754 double precision for a total of 64 bits.\n",
        "\n",
        "\n",
        "*   one bit is the sign indicator\n",
        "*   11 bits is the exponent (2^11 = 2048)\n",
        "*   52 bits is the fraction\n",
        "\n",
        "To get a precise number we have to normalize it. Which means that we have to take into account some of the values are negative exponents so we subtract 1023 from the exponent. (Bias is 1023)\n",
        "\n",
        "Bias - the value subtracted from the exponent.\n",
        "\n",
        "To obatin the float information using the sys package:"
      ],
      "metadata": {
        "id": "eqMmWNWGpDr7"
      }
    },
    {
      "cell_type": "code",
      "source": [
        "import sys\n",
        "sys.float_info"
      ],
      "metadata": {
        "colab": {
          "base_uri": "https://localhost:8080/"
        },
        "id": "8N16EGfK23SX",
        "outputId": "3640593e-8ec3-46b5-fb8e-025565f8b6fa"
      },
      "execution_count": null,
      "outputs": [
        {
          "output_type": "execute_result",
          "data": {
            "text/plain": [
              "sys.float_info(max=1.7976931348623157e+308, max_exp=1024, max_10_exp=308, min=2.2250738585072014e-308, min_exp=-1021, min_10_exp=-307, dig=15, mant_dig=53, epsilon=2.220446049250313e-16, radix=2, rounds=1)"
            ]
          },
          "metadata": {},
          "execution_count": 1
        }
      ]
    },
    {
      "cell_type": "markdown",
      "source": [
        "For 64-bit, a float can be represented as n = $(-1)^s$2^(e-1023)(1+f)\n",
        "\n",
        "Example: What is the number 1 10000000010 1000000000000000000000000000000000000000000000000000 (IEEE754) in base10?\n",
        "\n",
        "The first number, 1 is the sign and indicates that $(-1)^1$ is negative.\n",
        "\n",
        "The second number, 10000000010 is the exponent. There is a one in the one spot and in the ten's spot so 1*2^10 + 1*2^1 was plugged in for e. The equation is $(-1^1)$(1*2^10+1*2^1)-1023 which equals 3\n",
        "\n",
        "The third number, 1000000000000000000000000000000000000000000000000000 is the fraction.The spot furthest to the left is 1 so 1*$(2^1)$.The second spot to the furthest to the left contains a zero so 1*$2^2$. The fraction equation is  1*(1/$2^1$)+0(1/$2^2$) which equals 0.5.\n",
        "\n",
        "The final equation is n - $(-1^1)$*$2^3$*(1+0.5) = -12(base10)"
      ],
      "metadata": {
        "id": "WFktu6qu3GX6"
      }
    },
    {
      "cell_type": "markdown",
      "source": [
        "Steps to take something from base10 to IEEE754 (base10)\n",
        "\n",
        "\n",
        "*   Identify whether the number is positive or negative (s = 0, positive; s = 1, negative)\n",
        "*   Take the number in front of (base10) and identify the larget power of 2 (the number used for the power of two is the exponent)\n",
        "Example: 15(base10) the largest power of 2 is 8 so the exponent is 3\n",
        "\n",
        "\n",
        "*   Add the exponent to 1023 then figure out how to make that number out of base 2\n",
        "Example: 1026(base10) = 1024 + 2 = 2^10 +$2^2$.\n",
        "*   Place a 1 in the number spots and zeros in the rest of the spots.\n",
        "Example: 10000000010(base2)\n",
        "\n",
        "\n",
        "*   The fraction is number/(2^exponent) - 1 (base10). Equation is either 1 or 0 *(1/$2^1$) + 1 or 0 *(1/$2^2$) + 1 or 0 *(1/$2^3$)...\n",
        "\n",
        "Gap - the distance from one number to the next\n",
        "2^(e-1023) ensures that the gap grows as the number represented grows.\n",
        "\n",
        "Numpy is used to compute the a number at a gap"
      ],
      "metadata": {
        "id": "vihj4XvRF4X1"
      }
    },
    {
      "cell_type": "code",
      "source": [
        "import numpy as np\n",
        "# determines the gap at 1e9\n",
        "np.spacing(1e9)"
      ],
      "metadata": {
        "colab": {
          "base_uri": "https://localhost:8080/"
        },
        "id": "gUpAyfi3NH4b",
        "outputId": "ec725f4b-001d-4907-f6ad-41b95aba3f96"
      },
      "execution_count": null,
      "outputs": [
        {
          "output_type": "execute_result",
          "data": {
            "text/plain": [
              "1.1920928955078125e-07"
            ]
          },
          "metadata": {},
          "execution_count": 6
        }
      ]
    },
    {
      "cell_type": "code",
      "source": [
        "# verifies that adding a number to 1e9 \n",
        "# that is less than half the gap at 1e9 results in the same number\n",
        "1e9 == (1e9 + np.spacing(1e9)/3)"
      ],
      "metadata": {
        "colab": {
          "base_uri": "https://localhost:8080/"
        },
        "id": "2-lULXByPgx5",
        "outputId": "ad0e5908-4a84-4c46-ac62-7df2ec7b5ad3"
      },
      "execution_count": null,
      "outputs": [
        {
          "output_type": "execute_result",
          "data": {
            "text/plain": [
              "True"
            ]
          },
          "metadata": {},
          "execution_count": 7
        }
      ]
    },
    {
      "cell_type": "markdown",
      "source": [
        "Subnormal - when the exponent is 0, the leading 1 in the fraction takes the value 0 instead.\n",
        "*   The equation is n = $(-1^s)$2^-1022(0+f)\n",
        "Note: it isn't 1023 instead 1022\n",
        "\n",
        "\"Not a Number\" - when the exponent is 2047 and f is nonzero\n",
        "*   number is undefined\n",
        "\n",
        "Positive infinity - when the exponent is 2047, f = 0 and s = 0\n",
        "\n",
        "Minus infinity - when the exponent is 2047, f = 0 and s = 1\n",
        "\n",
        "sys.float_info.max - returns the largest number\n",
        "\n",
        "syst.float_info.min - returns the smalles number"
      ],
      "metadata": {
        "id": "mxs778gYPmFN"
      }
    },
    {
      "cell_type": "code",
      "source": [
        "largest = (2**(2046-1023))*((1+sum(0.5**np.arange(1,53))))\n",
        "largest"
      ],
      "metadata": {
        "colab": {
          "base_uri": "https://localhost:8080/"
        },
        "id": "TBB4f34MRNTW",
        "outputId": "f97e0405-c633-4c24-a501-812ee0a06c69"
      },
      "execution_count": null,
      "outputs": [
        {
          "output_type": "execute_result",
          "data": {
            "text/plain": [
              "1.7976931348623157e+308"
            ]
          },
          "metadata": {},
          "execution_count": 8
        }
      ]
    },
    {
      "cell_type": "code",
      "source": [
        "import sys\n",
        "sys.float_info.max"
      ],
      "metadata": {
        "colab": {
          "base_uri": "https://localhost:8080/"
        },
        "id": "RvokIXImSENQ",
        "outputId": "715cddb8-a2fc-4c26-f5eb-6c41c2393e73"
      },
      "execution_count": null,
      "outputs": [
        {
          "output_type": "execute_result",
          "data": {
            "text/plain": [
              "1.7976931348623157e+308"
            ]
          },
          "metadata": {},
          "execution_count": 10
        }
      ]
    },
    {
      "cell_type": "code",
      "source": [
        "smallest = (2**(1-1023))*(1+0)\n",
        "smallest"
      ],
      "metadata": {
        "colab": {
          "base_uri": "https://localhost:8080/"
        },
        "id": "e8UDHdaxSH2y",
        "outputId": "b74bd460-5edd-46c1-fa75-e6a341b6bf30"
      },
      "execution_count": null,
      "outputs": [
        {
          "output_type": "execute_result",
          "data": {
            "text/plain": [
              "2.2250738585072014e-308"
            ]
          },
          "metadata": {},
          "execution_count": 11
        }
      ]
    },
    {
      "cell_type": "code",
      "source": [
        "sys.float_info.min"
      ],
      "metadata": {
        "colab": {
          "base_uri": "https://localhost:8080/"
        },
        "id": "C29YwvfUSSk7",
        "outputId": "a26e5902-c587-438f-d600-add759965d08"
      },
      "execution_count": null,
      "outputs": [
        {
          "output_type": "execute_result",
          "data": {
            "text/plain": [
              "2.2250738585072014e-308"
            ]
          },
          "metadata": {},
          "execution_count": 12
        }
      ]
    },
    {
      "cell_type": "code",
      "source": [
        "sys.float_info.max + sys.float_info.max"
      ],
      "metadata": {
        "colab": {
          "base_uri": "https://localhost:8080/"
        },
        "id": "nrFF5kkhSpl6",
        "outputId": "a7e94806-4c54-4d8c-e480-e69d74ce6a38"
      },
      "execution_count": null,
      "outputs": [
        {
          "output_type": "execute_result",
          "data": {
            "text/plain": [
              "inf"
            ]
          },
          "metadata": {},
          "execution_count": 13
        }
      ]
    },
    {
      "cell_type": "markdown",
      "source": [
        "In binary, numbers have a constant spacing between them. As a result, you cannot have both range (i.e., large distance between minimum and maximum representable number) and precision (i.e., small spacing between numbers). IEEE754 overcomes this limitation by using very high precision at small numbers and very low precision at large numbers. This limitation is usually acceptable because the gap at large numbers is still small relative to the size of the number itself."
      ],
      "metadata": {
        "id": "aQHh0FXMS7CY"
      }
    },
    {
      "cell_type": "markdown",
      "source": [
        "### 9.3 Round-off Errors\n",
        "Floating point numbers are represented in computers as base 2 fractions.\n",
        "\n",
        "Round-off error - difference between an approximation of a number used in computation and its correct (true) value\n",
        "\n",
        "\n",
        "*   one of the common errors usually in the numerical calculations.\n",
        "\n",
        "\n",
        "*   most common form of round-off error is the representation error in the floating point numbers.\n",
        "*   Example: pi, 1/3\n",
        "\n",
        "Three decimal point rounding:\n",
        "Rounded once - two decimal points\n",
        "Rounded twice - one decimal point\n",
        "\n",
        "Example: if 4.845 is rounded \n",
        "rounedd once: it is 4.85, the total error is 0.045.\n",
        "rounded twice: it is 4.9, the total error is 0.055"
      ],
      "metadata": {
        "id": "I39QRe5qT58w"
      }
    },
    {
      "cell_type": "code",
      "source": [
        "# check the error\n",
        "4.9 - 4.85 == 0.055"
      ],
      "metadata": {
        "colab": {
          "base_uri": "https://localhost:8080/"
        },
        "id": "KxrynCgNWIbD",
        "outputId": "30569a6c-9128-45f0-a207-1c593d3fff78"
      },
      "execution_count": null,
      "outputs": [
        {
          "output_type": "execute_result",
          "data": {
            "text/plain": [
              "False"
            ]
          },
          "metadata": {},
          "execution_count": 14
        }
      ]
    },
    {
      "cell_type": "code",
      "source": [
        "# why it resulted false\n",
        "4.9 - 4.845"
      ],
      "metadata": {
        "colab": {
          "base_uri": "https://localhost:8080/"
        },
        "id": "0ajcxT-aWNrC",
        "outputId": "fafd8004-e832-4d86-ddc7-04443a5d4814"
      },
      "execution_count": null,
      "outputs": [
        {
          "output_type": "execute_result",
          "data": {
            "text/plain": [
              "0.055000000000000604"
            ]
          },
          "metadata": {},
          "execution_count": 15
        }
      ]
    },
    {
      "cell_type": "code",
      "source": [
        "# same reason above why it resulted false\n",
        "0.1 + 0.2 +0.3 == 0.6"
      ],
      "metadata": {
        "colab": {
          "base_uri": "https://localhost:8080/"
        },
        "id": "WnHLo6W0Wi1b",
        "outputId": "c153e308-74c2-4bcd-81b0-7e9c154bc9c1"
      },
      "execution_count": null,
      "outputs": [
        {
          "output_type": "execute_result",
          "data": {
            "text/plain": [
              "False"
            ]
          },
          "metadata": {},
          "execution_count": 16
        }
      ]
    },
    {
      "cell_type": "code",
      "source": [
        "round (0.1 +0.2 + 0.3,5) == round(0.6,5)"
      ],
      "metadata": {
        "colab": {
          "base_uri": "https://localhost:8080/"
        },
        "id": "i8S-pop7WlvH",
        "outputId": "154db9da-d4e1-4386-fe3d-591eb694023d"
      },
      "execution_count": null,
      "outputs": [
        {
          "output_type": "execute_result",
          "data": {
            "text/plain": [
              "True"
            ]
          },
          "metadata": {},
          "execution_count": 17
        }
      ]
    },
    {
      "cell_type": "code",
      "source": [
        "# If we only do once\n",
        "1 +1/3 -1/3"
      ],
      "metadata": {
        "colab": {
          "base_uri": "https://localhost:8080/"
        },
        "id": "FrFwEV-IXK-U",
        "outputId": "f90678e2-f59b-46b9-ea78-54afa0a0b2ab"
      },
      "execution_count": null,
      "outputs": [
        {
          "output_type": "execute_result",
          "data": {
            "text/plain": [
              "1.0"
            ]
          },
          "metadata": {},
          "execution_count": 19
        }
      ]
    },
    {
      "cell_type": "code",
      "source": [
        "def add_and_subtract(iterations):\n",
        "    result = 1\n",
        "    \n",
        "    for i in range(iterations):\n",
        "        result += 1/3\n",
        "\n",
        "    for i in range(iterations):\n",
        "        result -= 1/3\n",
        "    return result"
      ],
      "metadata": {
        "id": "Vfd387WqXDO8"
      },
      "execution_count": null,
      "outputs": []
    },
    {
      "cell_type": "code",
      "source": [
        "# If we do this 100 times\n",
        "add_and_subtract(100)"
      ],
      "metadata": {
        "colab": {
          "base_uri": "https://localhost:8080/"
        },
        "id": "KooeN9M7XP94",
        "outputId": "b2012197-f0e5-49d6-dcaf-feb181344fa4"
      },
      "execution_count": null,
      "outputs": [
        {
          "output_type": "execute_result",
          "data": {
            "text/plain": [
              "1.0000000000000002"
            ]
          },
          "metadata": {},
          "execution_count": 20
        }
      ]
    },
    {
      "cell_type": "code",
      "source": [
        "# If we do this 1000 times\n",
        "add_and_subtract(1000)"
      ],
      "metadata": {
        "colab": {
          "base_uri": "https://localhost:8080/"
        },
        "id": "k9eg4TqCXVTu",
        "outputId": "c6501f9f-ab9d-4521-c115-ab664764ba13"
      },
      "execution_count": null,
      "outputs": [
        {
          "output_type": "execute_result",
          "data": {
            "text/plain": [
              "1.0000000000000064"
            ]
          },
          "metadata": {},
          "execution_count": 21
        }
      ]
    },
    {
      "cell_type": "code",
      "source": [
        "# If we do this 10000 times\n",
        "add_and_subtract(10000)"
      ],
      "metadata": {
        "colab": {
          "base_uri": "https://localhost:8080/"
        },
        "id": "b0M0kFD1XavQ",
        "outputId": "b4b0bafc-2d33-4d0a-8e47-61965270efab"
      },
      "execution_count": null,
      "outputs": [
        {
          "output_type": "execute_result",
          "data": {
            "text/plain": [
              "1.0000000000001166"
            ]
          },
          "metadata": {},
          "execution_count": 22
        }
      ]
    },
    {
      "cell_type": "markdown",
      "source": [
        "Truncation error - the error made by truncating an infinite sum and approximating it by a finite sum"
      ],
      "metadata": {
        "id": "AOkLcljNWIvP"
      }
    }
  ]
}