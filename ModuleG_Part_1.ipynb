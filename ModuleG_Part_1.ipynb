{
  "nbformat": 4,
  "nbformat_minor": 0,
  "metadata": {
    "colab": {
      "provenance": [],
      "authorship_tag": "ABX9TyMvHYVniFer1Wlf4YWsfAuS",
      "include_colab_link": true
    },
    "kernelspec": {
      "name": "python3",
      "display_name": "Python 3"
    },
    "language_info": {
      "name": "python"
    }
  },
  "cells": [
    {
      "cell_type": "markdown",
      "metadata": {
        "id": "view-in-github",
        "colab_type": "text"
      },
      "source": [
        "<a href=\"https://colab.research.google.com/github/kalvelagem/MAT421/blob/main/ModuleG_Part_1.ipynb\" target=\"_parent\"><img src=\"https://colab.research.google.com/assets/colab-badge.svg\" alt=\"Open In Colab\"/></a>"
      ]
    },
    {
      "cell_type": "markdown",
      "source": [
        "# Section 21.1\n",
        "Intergal - the \"area under the curve\"\n",
        "\n",
        "To get the integral over an interval of [a,b] break the interval into numeral grid, x, consisting of n+1 points with spacing, h = $\\frac{b-a}{n}$. Denote each poin in x by $x_i$, where $x_o = a$ and $x_n = b$\n",
        "\n",
        "Subinterval - the interval [$x_i,x_{i+1}$]\n",
        "# Section 21.2\n",
        "Riemanns Intergal - the simplest method for approximating intergals is by summing the area of rectngles that are defined for each subinterval.\n",
        "\n",
        "Width of the rectangle is $x_{i+1}-x_i$ = h and the height is defined by a function value f(x) for some x in subinterval.\n",
        "\n",
        "$∫_a^b$f(x)dx ≈ $Σ_{i=0}^{n-1}hf(x_i)$\n",
        "\n",
        "The taylor series of f(x) around a = $x_i$ is f(x) = $f(x_i) + f'(x_i)(x-x_i)$ +...\n",
        "\n",
        "Simplified down ∫$_{x_i}$$^{x_{i+1}}$ = $hf(x_i) + O(h^2)$. The overall accuracy is O(h).\n",
        "\n",
        "The Midpoint Rule - takes the rectangle height of the rectangle at each subinterval to be the function value of the midpoint between $x_i$ and $x_{i+1}$.\n",
        "\n",
        "∫$_a^b$f(x)dx ≈ Σ$_{i=0}^{n-1}$ hf($y_i$)\n",
        "\n",
        "Simplified to ∫$_{x_i}$$^{x_i+1}$ hf($y_i$)+O($h^3$)\n",
        "\n",
        "Since $hf(y_i)$ is the approximation of the integral over the subinterval, the Midpoint Rule is O($h^3$) for one subinterval, and using similar arguments as for the Riemann Interal is O($h^2$) over the whole interval."
      ],
      "metadata": {
        "id": "97erEyMJspyn"
      }
    },
    {
      "cell_type": "code",
      "source": [
        "import numpy as np\n",
        "\n",
        "a = 0\n",
        "b = np.pi\n",
        "n = 11\n",
        "h = (b - a) / (n - 1)\n",
        "x = np.linspace(a, b, n)\n",
        "f = np.sin(x)\n",
        "\n",
        "I_riemannL = h * sum(f[:n-1])\n",
        "err_riemannL = 2 - I_riemannL\n",
        "\n",
        "I_riemannR = h * sum(f[1::])\n",
        "err_riemannR = 2 - I_riemannR\n",
        "\n",
        "I_mid = h * sum(np.sin((x[:n-1] \\\n",
        "        + x[1:])/2))\n",
        "err_mid = 2 - I_mid\n",
        "\n",
        "print(I_riemannL)\n",
        "print(err_riemannL)\n",
        "\n",
        "print(I_riemannR)\n",
        "print(err_riemannR)\n",
        "\n",
        "print(I_mid)\n",
        "print(err_mid)"
      ],
      "metadata": {
        "colab": {
          "base_uri": "https://localhost:8080/"
        },
        "id": "z4RjgWjpPuBo",
        "outputId": "63020ced-6bd1-4e3e-c19f-bad95d2d19b4"
      },
      "execution_count": 1,
      "outputs": [
        {
          "output_type": "stream",
          "name": "stdout",
          "text": [
            "1.9835235375094546\n",
            "0.01647646249054535\n",
            "1.9835235375094546\n",
            "0.01647646249054535\n",
            "2.0082484079079745\n",
            "-0.008248407907974542\n"
          ]
        }
      ]
    },
    {
      "cell_type": "markdown",
      "source": [
        "# Section 21.3\n",
        "The Trapezoid Rule - fits a trapezoid into each subinterval and sums the areas of the trapezoid to approximate the total integral. \n",
        "\n",
        "For each subinterval, the Trapezoid Rule computes the area of a trapezoid with corners at ($x_i$,0),$(x_{i+1}$,0), $(x_i,f(x_i))$ and $(x_{i+1},f(x_{i+1})$ which h$\\frac{f(x_i)+f(x_{i+1})}{2}$\n",
        "\n",
        "Trapezoid Rule: ∫$_a^b$f(x)dx ≈ Σ$_{i=0}^{n-1}$ h $\\frac{f(x_i)+f(x_{i+1})}{2}$"
      ],
      "metadata": {
        "id": "zqpF1yYEQCVj"
      }
    },
    {
      "cell_type": "code",
      "source": [
        "import numpy as np\n",
        "\n",
        "a = 0\n",
        "b = np.pi\n",
        "n = 11\n",
        "h = (b - a) / (n - 1)\n",
        "x = np.linspace(a, b, n)\n",
        "f = np.sin(x)\n",
        "\n",
        "I_trap = (h/2)*(f[0] + \\\n",
        "          2 * sum(f[1:n-1]) + f[n-1])\n",
        "err_trap = 2 - I_trap\n",
        "\n",
        "print(I_trap)\n",
        "print(err_trap)"
      ],
      "metadata": {
        "colab": {
          "base_uri": "https://localhost:8080/"
        },
        "id": "EHPp3BI9Sfe-",
        "outputId": "af1d9f38-b44f-491e-e581-9c14a5827fde"
      },
      "execution_count": 2,
      "outputs": [
        {
          "output_type": "stream",
          "name": "stdout",
          "text": [
            "1.9835235375094546\n",
            "0.01647646249054535\n"
          ]
        }
      ]
    }
  ]
}